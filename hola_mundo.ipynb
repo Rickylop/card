{
  "nbformat": 4,
  "nbformat_minor": 0,
  "metadata": {
    "colab": {
      "name": "hola_mundo.ipynb",
      "provenance": [],
      "authorship_tag": "ABX9TyNHA/wjapKLOaelcRyskj5H",
      "include_colab_link": true
    },
    "kernelspec": {
      "name": "python3",
      "display_name": "Python 3"
    },
    "language_info": {
      "name": "python"
    }
  },
  "cells": [
    {
      "cell_type": "markdown",
      "metadata": {
        "id": "view-in-github",
        "colab_type": "text"
      },
      "source": [
        "<a href=\"https://colab.research.google.com/github/Rickylop/card/blob/main/hola_mundo.ipynb\" target=\"_parent\"><img src=\"https://colab.research.google.com/assets/colab-badge.svg\" alt=\"Open In Colab\"/></a>"
      ]
    },
    {
      "cell_type": "code",
      "metadata": {
        "id": "y6jNDr9U3Oaj"
      },
      "source": [
        "x='Hola'"
      ],
      "execution_count": null,
      "outputs": []
    },
    {
      "cell_type": "code",
      "metadata": {
        "colab": {
          "base_uri": "https://localhost:8080/",
          "height": 35
        },
        "id": "ciueyK8k3kV8",
        "outputId": "02cffae3-3fdb-4a80-f59d-9e9c4406f85f"
      },
      "source": [
        "y=\"Mundo\"\n",
        "x+y"
      ],
      "execution_count": null,
      "outputs": [
        {
          "output_type": "execute_result",
          "data": {
            "application/vnd.google.colaboratory.intrinsic+json": {
              "type": "string"
            },
            "text/plain": [
              "'HolaMundo'"
            ]
          },
          "metadata": {
            "tags": []
          },
          "execution_count": 2
        }
      ]
    },
    {
      "cell_type": "code",
      "metadata": {
        "id": "-QlrLE8L3r-l",
        "colab": {
          "base_uri": "https://localhost:8080/"
        },
        "outputId": "aec9ff8a-1a07-4a76-cb30-f8be64d07479"
      },
      "source": [
        "def mayusculas(func):\n",
        "    def envoltura(texto):\n",
        "        return func(texto).upper()\n",
        "    return envoltura\n",
        "\n",
        "@mayusculas\n",
        "def mensaje(nombre):\n",
        "    return f'{nombre}, recibiste un mensaje'\n",
        "\n",
        "print(mensaje('cesar'))"
      ],
      "execution_count": 1,
      "outputs": [
        {
          "output_type": "stream",
          "name": "stdout",
          "text": [
            "CESAR, RECIBISTE UN MENSAJE\n"
          ]
        }
      ]
    },
    {
      "cell_type": "code",
      "metadata": {
        "colab": {
          "base_uri": "https://localhost:8080/",
          "height": 35
        },
        "id": "rb9Afvbu6Y3G",
        "outputId": "50c133fa-8555-4872-ae6b-b3545e2217d3"
      },
      "source": [
        "import pandas as pd\n",
        "pd.__version__"
      ],
      "execution_count": 2,
      "outputs": [
        {
          "output_type": "execute_result",
          "data": {
            "application/vnd.google.colaboratory.intrinsic+json": {
              "type": "string"
            },
            "text/plain": [
              "'1.1.5'"
            ]
          },
          "metadata": {},
          "execution_count": 2
        }
      ]
    },
    {
      "cell_type": "code",
      "metadata": {
        "id": "dvvct0v46sZL"
      },
      "source": [
        ""
      ],
      "execution_count": null,
      "outputs": []
    }
  ]
}